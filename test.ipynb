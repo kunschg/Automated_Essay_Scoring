{
 "cells": [
  {
   "attachments": {},
   "cell_type": "markdown",
   "metadata": {},
   "source": [
    "# Model testing"
   ]
  },
  {
   "cell_type": "code",
   "execution_count": 2,
   "metadata": {},
   "outputs": [
    {
     "name": "stdout",
     "output_type": "stream",
     "text": [
      "True\n",
      "True\n"
     ]
    }
   ],
   "source": [
    "import torch\n",
    "import math"
   ]
  },
  {
   "cell_type": "code",
   "execution_count": 1,
   "metadata": {},
   "outputs": [],
   "source": [
    "import torch\n",
    "from models import ConvNet1D\n",
    "import numpy as np\n",
    "import torch\n",
    "from torch.utils.data import DataLoader\n",
    "from tqdm import tqdm\n",
    "import pickle\n",
    "import pandas as pd\n",
    "import nltk"
   ]
  },
  {
   "attachments": {},
   "cell_type": "markdown",
   "metadata": {},
   "source": [
    "## Test performance"
   ]
  },
  {
   "cell_type": "code",
   "execution_count": 2,
   "metadata": {},
   "outputs": [],
   "source": [
    "# Load test dataset\n",
    "test_dataset = torch.load('data/test_w2v.pt')\n",
    "test_loader = DataLoader(test_dataset)"
   ]
  },
  {
   "cell_type": "code",
   "execution_count": 3,
   "metadata": {},
   "outputs": [],
   "source": [
    "# Model parameters\n",
    "input_channels = 50\n",
    "depth = 0\n",
    "kernel_size = 5\n",
    "max_essay_length = 1266\n",
    "skip_connections = False\n",
    "batch_norm = False"
   ]
  },
  {
   "cell_type": "code",
   "execution_count": 4,
   "metadata": {},
   "outputs": [
    {
     "data": {
      "text/plain": [
       "<All keys matched successfully>"
      ]
     },
     "execution_count": 4,
     "metadata": {},
     "output_type": "execute_result"
    }
   ],
   "source": [
    "# Load model weights\n",
    "model = ConvNet1D(input_channels, depth, kernel_size, max_essay_length, skip_connections, batch_norm)\n",
    "weights = torch.load('models/ConvNet1D_depth0_seed1.pth', map_location=torch.device('cpu'))\n",
    "model.load_state_dict(weights)"
   ]
  },
  {
   "cell_type": "code",
   "execution_count": 5,
   "metadata": {},
   "outputs": [
    {
     "name": "stdout",
     "output_type": "stream",
     "text": [
      "Test MAE: 0.1045\n"
     ]
    }
   ],
   "source": [
    "# Test performance (MAE)\n",
    "test_sae = 0\n",
    "\n",
    "with torch.no_grad():\n",
    "    for essay, essay_set, grade in test_loader:\n",
    "        grade_pred = model(essay, essay_set)\n",
    "        test_sae += torch.abs(grade_pred-grade).item()\n",
    "\n",
    "test_mae = test_sae/len(test_dataset)\n",
    "print(f'Test MAE: {test_mae:.4f}')"
   ]
  },
  {
   "attachments": {},
   "cell_type": "markdown",
   "metadata": {},
   "source": [
    "## Example of essay grading"
   ]
  },
  {
   "cell_type": "code",
   "execution_count": 6,
   "metadata": {},
   "outputs": [],
   "source": [
    "# Load W2V dictionary\n",
    "with open('data/dict_w2v.pickle', 'rb') as f:\n",
    "    dict_w2v = pickle.load(f)"
   ]
  },
  {
   "cell_type": "code",
   "execution_count": 7,
   "metadata": {},
   "outputs": [],
   "source": [
    "# Load data\n",
    "data = pd.read_excel('data/training_set_rel3.xlsx')"
   ]
  },
  {
   "cell_type": "code",
   "execution_count": 8,
   "metadata": {},
   "outputs": [],
   "source": [
    "# Essay to embedding function\n",
    "def essay_to_emb(essay):\n",
    "    sentences = nltk.sent_tokenize(essay)\n",
    "    tokenized_sentences = [nltk.word_tokenize(sentence) for sentence in sentences]\n",
    "    emb_essay = np.zeros([50,1266])\n",
    "    counter = 0\n",
    "\n",
    "    for sentence in tokenized_sentences:\n",
    "        for word in sentence[:-1]:\n",
    "            try:\n",
    "                emb_essay[:,counter] = dict_w2v[word]\n",
    "                counter += 1\n",
    "            except:\n",
    "                if word != ',':\n",
    "                    emb_essay[:,counter] = np.zeros(50)\n",
    "                    counter += 1\n",
    "                else:\n",
    "                    continue\n",
    "                   \n",
    "        emb_essay[:,counter] = dict_w2v['</s>']\n",
    "        counter += 1\n",
    "    \n",
    "    emb_essay = torch.tensor(emb_essay)\n",
    "    \n",
    "    return emb_essay.view(1, emb_essay.shape[0], emb_essay.shape[1])"
   ]
  },
  {
   "cell_type": "code",
   "execution_count": 9,
   "metadata": {},
   "outputs": [
    {
     "name": "stdout",
     "output_type": "stream",
     "text": [
      "Subject:\n",
      "More and more people use computers, but not everyone agrees that this benefits society. Those who support advances in technology believe that computers have a positive effect on people. They teach hand-eye coordination, give people the ability to learn about faraway places and people, and even allow people to talk online with other people. Others have different ideas. Some experts are concerned that people are spending too much time on their computers and less time exercising, enjoying nature, and interacting with family and friends. Write a letter to your local newspaper in which you state your opinion on the effects computers have on people. Persuade the readers to agree with you.\n",
      "\n",
      "Essay:\n",
      "Dear local newspaper, I think effects computers have on people are great learning skills/affects because they give us time to chat with friends/new people, helps us learn about the globe(astronomy) and keeps us out of troble! Thing about! Dont you think so? How would you feel if your teenager is always on the phone with friends! Do you ever time to chat with your friends or buisness partner about things. Well now - there's a new way to chat the computer, theirs plenty of sites on the internet to do so: @ORGANIZATION1, @ORGANIZATION2, @CAPS1, facebook, myspace ect. Just think now while your setting up meeting with your boss on the computer, your teenager is having fun on the phone not rushing to get off cause you want to use it. How did you learn about other countrys/states outside of yours? Well I have by computer/internet, it's a new way to learn about what going on in our time! You might think your child spends a lot of time on the computer, but ask them so question about the economy, sea floor spreading or even about the @DATE1's you'll be surprise at how much he/she knows. Believe it or not the computer is much interesting then in class all day reading out of books. If your child is home on your computer or at a local library, it's better than being out with friends being fresh, or being perpressured to doing something they know isnt right. You might not know where your child is, @CAPS2 forbidde in a hospital bed because of a drive-by. Rather than your child on the computer learning, chatting or just playing games, safe and sound in your home or community place. Now I hope you have reached a point to understand and agree with me, because computers can have great effects on you or child because it gives us time to chat with friends/new people, helps us learn about the globe and believe or not keeps us out of troble. Thank you for listening.\n",
      "\n",
      "True grade: 60.0%\n",
      "\n",
      "Predicted grade: 54.9%\n"
     ]
    }
   ],
   "source": [
    "# Display subject, essay, true grade and predicted grade\n",
    "idx = 0\n",
    "essay = essay_to_emb(data.essay[idx]).float()\n",
    "essay_set = torch.tensor(data.essay_set[idx]).view(-1)\n",
    "grade = torch.tensor((data.domain1_score[idx]-2)/10).view(-1).float()\n",
    "print(f'Subject:\\nMore and more people use computers, but not everyone agrees that this benefits society. Those who support advances in technology believe that computers have a positive effect on people. They teach hand-eye coordination, give people the ability to learn about faraway places and people, and even allow people to talk online with other people. Others have different ideas. Some experts are concerned that people are spending too much time on their computers and less time exercising, enjoying nature, and interacting with family and friends. Write a letter to your local newspaper in which you state your opinion on the effects computers have on people. Persuade the readers to agree with you.\\n')\n",
    "print(f'Essay:\\n{data.essay[idx]}\\n')\n",
    "print(f'True grade: {grade.item()*100:.1f}%\\n')\n",
    "print(f'Predicted grade: {model(essay, essay_set).detach().item()*100:.1f}%')"
   ]
  }
 ],
 "metadata": {
  "kernelspec": {
   "display_name": "Python 3",
   "language": "python",
   "name": "python3"
  },
  "language_info": {
   "codemirror_mode": {
    "name": "ipython",
    "version": 3
   },
   "file_extension": ".py",
   "mimetype": "text/x-python",
   "name": "python",
   "nbconvert_exporter": "python",
   "pygments_lexer": "ipython3",
   "version": "3.10.1"
  },
  "orig_nbformat": 4
 },
 "nbformat": 4,
 "nbformat_minor": 2
}
